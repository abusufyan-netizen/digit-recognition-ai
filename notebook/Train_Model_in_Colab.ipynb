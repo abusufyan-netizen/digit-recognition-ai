{
 "cells": [
  {
   "cell_type": "markdown",
   "id": "256b4426",
   "metadata": {},
   "source": [
    "# Train Digit Recognition Model (Colab)\n",
    "\n",
    "This notebook trains the CNN on MNIST and saves the trained model to `model/digit_recognition_model.keras`. Set runtime to GPU."
   ]
  },
  {
   "cell_type": "code",
   "execution_count": null,
   "id": "c65ffb0c",
   "metadata": {},
   "outputs": [],
   "source": [
    "!pip install -q tensorflow pillow numpy"
   ]
  },
  {
   "cell_type": "code",
   "execution_count": null,
   "id": "1d8e274b",
   "metadata": {},
   "outputs": [],
   "source": [
    "from google.colab import drive\n",
    "# Optional: mount drive if you want to save model to Drive\n",
    "# drive.mount('/content/drive')"
   ]
  },
  {
   "cell_type": "code",
   "execution_count": null,
   "id": "ac0f887d",
   "metadata": {},
   "outputs": [],
   "source": [
    "# Run this file in Google Colab (Runtime -> Change runtime type -> GPU)\n",
    "# It trains a CNN on MNIST and saves 'digit_recognition_model.keras' into /model\n",
    "import tensorflow as tf\n",
    "from tensorflow.keras import layers, models\n",
    "import numpy as np\n",
    "import os\n",
    "from tensorflow.keras.datasets import mnist\n",
    "\n",
    "os.makedirs('model', exist_ok=True)\n",
    "MODEL_PATH = os.path.join('model','digit_recognition_model.keras')\n",
    "\n",
    "(x_train, y_train),(x_test,y_test) = mnist.load_data()\n",
    "x_train = x_train.reshape(-1,28,28,1).astype('float32')/255.0\n",
    "x_test  = x_test.reshape(-1,28,28,1).astype('float32')/255.0\n",
    "\n",
    "model = models.Sequential([\n",
    "    layers.Conv2D(32,(3,3),activation='relu',input_shape=(28,28,1)),\n",
    "    layers.BatchNormalization(),\n",
    "    layers.Conv2D(32,(3,3),activation='relu'),\n",
    "    layers.MaxPooling2D((2,2)),\n",
    "    layers.Dropout(0.25),\n",
    "    layers.Conv2D(64,(3,3),activation='relu'),\n",
    "    layers.BatchNormalization(),\n",
    "    layers.Conv2D(64,(3,3),activation='relu'),\n",
    "    layers.MaxPooling2D((2,2)),\n",
    "    layers.Dropout(0.25),\n",
    "    layers.Flatten(),\n",
    "    layers.Dense(256,activation='relu'),\n",
    "    layers.BatchNormalization(),\n",
    "    layers.Dropout(0.5),\n",
    "    layers.Dense(10,activation='softmax')\n",
    "])\n",
    "\n",
    "model.compile(optimizer=tf.keras.optimizers.Adam(1e-3),\n",
    "              loss='sparse_categorical_crossentropy',\n",
    "              metrics=['accuracy'])\n",
    "\n",
    "model.fit(x_train,y_train,epochs=12,batch_size=128,validation_split=0.1,verbose=2)\n",
    "loss, acc = model.evaluate(x_test,y_test,verbose=2)\n",
    "print(f\"Test accuracy: {acc*100:.2f}%\")\n",
    "model.save(MODEL_PATH)\n",
    "print(f\"Saved model to {MODEL_PATH}\")\n"
   ]
  },
  {
   "cell_type": "markdown",
   "id": "ef676295",
   "metadata": {},
   "source": [
    "After training completes, download `model/digit_recognition_model.keras` from the Files pane and add it to the `model/` folder in this repository."
   ]
  }
 ],
 "metadata": {},
 "nbformat": 4,
 "nbformat_minor": 5
}
